{
 "cells": [
  {
   "cell_type": "code",
   "execution_count": 2,
   "metadata": {},
   "outputs": [],
   "source": [
    "import sys\n",
    "import time\n",
    "from selenium import webdriver\n",
    "from selenium.webdriver.chrome.service import Service\n",
    "from selenium.webdriver.common.by import By\n",
    "from webdriver_manager.chrome import ChromeDriverManager\n",
    "from bs4 import BeautifulSoup\n",
    "import requests"
   ]
  },
  {
   "cell_type": "code",
   "execution_count": 3,
   "metadata": {},
   "outputs": [],
   "source": [
    "chrom_options = webdriver.ChromeOptions()\n",
    "chrom_options.add_experimental_option('detach', True)\n",
    "driver = webdriver.Chrome(service=Service(ChromeDriverManager().install()), options=chrom_options)"
   ]
  },
  {
   "cell_type": "code",
   "execution_count": 4,
   "metadata": {},
   "outputs": [],
   "source": [
    "################\n",
    "# 강원도 관광명소\n",
    "################\n",
    "driver.get('https://www.tripadvisor.co.kr/Attractions-g1072105-Activities-Gangwon_do.html')\n",
    "driver.implicitly_wait(2)"
   ]
  },
  {
   "cell_type": "code",
   "execution_count": 5,
   "metadata": {},
   "outputs": [
    {
     "name": "stdout",
     "output_type": "stream",
     "text": [
      "포스트 정보 가져오기 완료\n",
      "-------------------------\n"
     ]
    }
   ],
   "source": [
    "# 포스트 정보 가져오기\n",
    "html = driver.page_source\n",
    "soup = BeautifulSoup(html, 'html.parser')\n",
    "time.sleep(2)\n",
    "print('포스트 정보 가져오기 완료')\n",
    "print('-' * 25)"
   ]
  },
  {
   "cell_type": "code",
   "execution_count": 6,
   "metadata": {},
   "outputs": [],
   "source": [
    "div_list = soup.find_all('div', class_='XfVdV') "
   ]
  },
  {
   "cell_type": "code",
   "execution_count": 8,
   "metadata": {},
   "outputs": [
    {
     "data": {
      "text/plain": [
       "[<div class=\"XfVdV o AIbhI\"><span class=\"vAUKO\">1.</span> <!-- -->남이섬</div>,\n",
       " <div class=\"XfVdV o AIbhI\"><span class=\"vAUKO\">2.</span> <!-- -->설악산 국립공원</div>,\n",
       " <div class=\"XfVdV o AIbhI\"><span class=\"vAUKO\">3.</span> <!-- -->레고랜드 코리아</div>,\n",
       " <div class=\"XfVdV o AIbhI\"><span class=\"vAUKO\">4.</span> <!-- -->강촌 레일 파크</div>,\n",
       " <div class=\"XfVdV o AIbhI\"><span class=\"vAUKO\">5.</span> <!-- -->울산바위</div>,\n",
       " <div class=\"XfVdV o AIbhI\"><span class=\"vAUKO\">6.</span> <!-- -->뮤지엄 산</div>,\n",
       " <div class=\"XfVdV o AIbhI\"><span class=\"vAUKO\">7.</span> <!-- -->속초중앙시장</div>,\n",
       " <div class=\"XfVdV o AIbhI\"><span class=\"vAUKO\">8.</span> <!-- -->낙산사</div>,\n",
       " <div class=\"XfVdV o AIbhI\"><span class=\"vAUKO\">9.</span> <!-- -->경포해변</div>,\n",
       " <div class=\"XfVdV o AIbhI\"><span class=\"vAUKO\">10.</span> <!-- -->경포대</div>,\n",
       " <div class=\"XfVdV o AIbhI\"><span class=\"vAUKO\">11.</span> <!-- -->오대산 월정사</div>,\n",
       " <div class=\"XfVdV o AIbhI\"><span class=\"vAUKO\">12.</span> <!-- -->오죽헌</div>,\n",
       " <div class=\"XfVdV o AIbhI\"><span class=\"vAUKO\">13.</span> <!-- -->정동진</div>,\n",
       " <div class=\"XfVdV o AIbhI\"><span class=\"vAUKO\">14.</span> <!-- -->안목 해수욕장</div>,\n",
       " <div class=\"XfVdV o AIbhI\"><span class=\"vAUKO\">15.</span> <!-- -->권금성</div>,\n",
       " <div class=\"XfVdV o AIbhI\"><span class=\"vAUKO\">16.</span> <!-- -->비발디파크 오션월드</div>,\n",
       " <div class=\"XfVdV o AIbhI\"><span class=\"vAUKO\">17.</span> <!-- -->신흥사</div>,\n",
       " <div class=\"XfVdV o AIbhI\"><span class=\"vAUKO\">18.</span> <!-- -->알파카월드</div>,\n",
       " <div class=\"XfVdV o AIbhI\"><span class=\"vAUKO\">19.</span> <!-- -->하슬라 아트 월드</div>,\n",
       " <div class=\"XfVdV o AIbhI\"><span class=\"vAUKO\">20.</span> <!-- -->환선굴</div>,\n",
       " <div class=\"XfVdV o AIbhI\"><span class=\"vAUKO\">21.</span> <!-- -->강릉 선교장</div>,\n",
       " <div class=\"XfVdV o AIbhI\"><span class=\"vAUKO\">22.</span> <!-- -->속초 등대전망대</div>,\n",
       " <div class=\"XfVdV o AIbhI\"><span class=\"vAUKO\">23.</span> <!-- -->오대산 국립공원</div>,\n",
       " <div class=\"XfVdV o AIbhI\"><span class=\"vAUKO\">24.</span> <!-- -->제이드가든 수목원</div>,\n",
       " <div class=\"XfVdV o AIbhI\"><span class=\"vAUKO\">25.</span> <!-- -->추암해수욕장</div>,\n",
       " <div class=\"XfVdV o AIbhI\"><span class=\"vAUKO\">26.</span> <!-- -->정동심곡 바다부채길</div>,\n",
       " <div class=\"XfVdV o AIbhI\"><span class=\"vAUKO\">27.</span> <!-- -->촛대 바위</div>,\n",
       " <div class=\"XfVdV o AIbhI\"><span class=\"vAUKO\">28.</span> <!-- -->참소리축음기 에디슨과학박물관</div>,\n",
       " <div class=\"XfVdV o AIbhI\"><span class=\"vAUKO\">29.</span> <!-- -->하조대</div>,\n",
       " <div class=\"XfVdV o AIbhI\"><span class=\"vAUKO\">30.</span> <!-- -->대포항</div>]"
      ]
     },
     "execution_count": 8,
     "metadata": {},
     "output_type": "execute_result"
    }
   ],
   "source": [
    "div_list"
   ]
  },
  {
   "cell_type": "code",
   "execution_count": 7,
   "metadata": {},
   "outputs": [
    {
     "data": {
      "text/plain": [
       "'1. 남이섬'"
      ]
     },
     "execution_count": 7,
     "metadata": {},
     "output_type": "execute_result"
    }
   ],
   "source": [
    "div_list[0].text"
   ]
  },
  {
   "cell_type": "code",
   "execution_count": 11,
   "metadata": {},
   "outputs": [],
   "source": [
    "top_list = []\n",
    "for i in div_list:\n",
    "    top_list.append(i.get_text())"
   ]
  },
  {
   "cell_type": "code",
   "execution_count": 12,
   "metadata": {},
   "outputs": [
    {
     "data": {
      "text/plain": [
       "['1. 남이섬',\n",
       " '2. 설악산 국립공원',\n",
       " '3. 레고랜드 코리아',\n",
       " '4. 강촌 레일 파크',\n",
       " '5. 울산바위',\n",
       " '6. 뮤지엄 산',\n",
       " '7. 속초중앙시장',\n",
       " '8. 낙산사',\n",
       " '9. 경포해변',\n",
       " '10. 경포대',\n",
       " '11. 오대산 월정사',\n",
       " '12. 오죽헌',\n",
       " '13. 정동진',\n",
       " '14. 안목 해수욕장',\n",
       " '15. 권금성',\n",
       " '16. 비발디파크 오션월드',\n",
       " '17. 신흥사',\n",
       " '18. 알파카월드',\n",
       " '19. 하슬라 아트 월드',\n",
       " '20. 환선굴',\n",
       " '21. 강릉 선교장',\n",
       " '22. 속초 등대전망대',\n",
       " '23. 오대산 국립공원',\n",
       " '24. 제이드가든 수목원',\n",
       " '25. 추암해수욕장',\n",
       " '26. 정동심곡 바다부채길',\n",
       " '27. 촛대 바위',\n",
       " '28. 참소리축음기 에디슨과학박물관',\n",
       " '29. 하조대',\n",
       " '30. 대포항']"
      ]
     },
     "execution_count": 12,
     "metadata": {},
     "output_type": "execute_result"
    }
   ],
   "source": [
    "top_list"
   ]
  },
  {
   "cell_type": "code",
   "execution_count": 14,
   "metadata": {},
   "outputs": [],
   "source": [
    "text_list = []\n",
    "for text in top_list:\n",
    "    text_list.append(text.split('. '))"
   ]
  },
  {
   "cell_type": "code",
   "execution_count": 15,
   "metadata": {},
   "outputs": [
    {
     "data": {
      "text/plain": [
       "[['1', '남이섬'],\n",
       " ['2', '설악산 국립공원'],\n",
       " ['3', '레고랜드 코리아'],\n",
       " ['4', '강촌 레일 파크'],\n",
       " ['5', '울산바위'],\n",
       " ['6', '뮤지엄 산'],\n",
       " ['7', '속초중앙시장'],\n",
       " ['8', '낙산사'],\n",
       " ['9', '경포해변'],\n",
       " ['10', '경포대'],\n",
       " ['11', '오대산 월정사'],\n",
       " ['12', '오죽헌'],\n",
       " ['13', '정동진'],\n",
       " ['14', '안목 해수욕장'],\n",
       " ['15', '권금성'],\n",
       " ['16', '비발디파크 오션월드'],\n",
       " ['17', '신흥사'],\n",
       " ['18', '알파카월드'],\n",
       " ['19', '하슬라 아트 월드'],\n",
       " ['20', '환선굴'],\n",
       " ['21', '강릉 선교장'],\n",
       " ['22', '속초 등대전망대'],\n",
       " ['23', '오대산 국립공원'],\n",
       " ['24', '제이드가든 수목원'],\n",
       " ['25', '추암해수욕장'],\n",
       " ['26', '정동심곡 바다부채길'],\n",
       " ['27', '촛대 바위'],\n",
       " ['28', '참소리축음기 에디슨과학박물관'],\n",
       " ['29', '하조대'],\n",
       " ['30', '대포항']]"
      ]
     },
     "execution_count": 15,
     "metadata": {},
     "output_type": "execute_result"
    }
   ],
   "source": [
    "text_list"
   ]
  },
  {
   "cell_type": "code",
   "execution_count": 16,
   "metadata": {},
   "outputs": [],
   "source": [
    "text_dict = {}\n",
    "for i in text_list:\n",
    "    text_dict[i[1]] =  i[0]"
   ]
  },
  {
   "cell_type": "code",
   "execution_count": 18,
   "metadata": {},
   "outputs": [
    {
     "data": {
      "text/plain": [
       "{'남이섬': '1',\n",
       " '설악산 국립공원': '2',\n",
       " '레고랜드 코리아': '3',\n",
       " '강촌 레일 파크': '4',\n",
       " '울산바위': '5',\n",
       " '뮤지엄 산': '6',\n",
       " '속초중앙시장': '7',\n",
       " '낙산사': '8',\n",
       " '경포해변': '9',\n",
       " '경포대': '10',\n",
       " '오대산 월정사': '11',\n",
       " '오죽헌': '12',\n",
       " '정동진': '13',\n",
       " '안목 해수욕장': '14',\n",
       " '권금성': '15',\n",
       " '비발디파크 오션월드': '16',\n",
       " '신흥사': '17',\n",
       " '알파카월드': '18',\n",
       " '하슬라 아트 월드': '19',\n",
       " '환선굴': '20',\n",
       " '강릉 선교장': '21',\n",
       " '속초 등대전망대': '22',\n",
       " '오대산 국립공원': '23',\n",
       " '제이드가든 수목원': '24',\n",
       " '추암해수욕장': '25',\n",
       " '정동심곡 바다부채길': '26',\n",
       " '촛대 바위': '27',\n",
       " '참소리축음기 에디슨과학박물관': '28',\n",
       " '하조대': '29',\n",
       " '대포항': '30'}"
      ]
     },
     "execution_count": 18,
     "metadata": {},
     "output_type": "execute_result"
    }
   ],
   "source": [
    "text_dict"
   ]
  },
  {
   "cell_type": "code",
   "execution_count": 19,
   "metadata": {},
   "outputs": [],
   "source": [
    "import pandas as pd"
   ]
  },
  {
   "cell_type": "code",
   "execution_count": 23,
   "metadata": {},
   "outputs": [
    {
     "data": {
      "text/html": [
       "<div>\n",
       "<style scoped>\n",
       "    .dataframe tbody tr th:only-of-type {\n",
       "        vertical-align: middle;\n",
       "    }\n",
       "\n",
       "    .dataframe tbody tr th {\n",
       "        vertical-align: top;\n",
       "    }\n",
       "\n",
       "    .dataframe thead th {\n",
       "        text-align: right;\n",
       "    }\n",
       "</style>\n",
       "<table border=\"1\" class=\"dataframe\">\n",
       "  <thead>\n",
       "    <tr style=\"text-align: right;\">\n",
       "      <th></th>\n",
       "      <th>장소</th>\n",
       "      <th>순위</th>\n",
       "    </tr>\n",
       "  </thead>\n",
       "  <tbody>\n",
       "    <tr>\n",
       "      <th>0</th>\n",
       "      <td>남이섬</td>\n",
       "      <td>1</td>\n",
       "    </tr>\n",
       "    <tr>\n",
       "      <th>1</th>\n",
       "      <td>설악산 국립공원</td>\n",
       "      <td>2</td>\n",
       "    </tr>\n",
       "    <tr>\n",
       "      <th>2</th>\n",
       "      <td>레고랜드 코리아</td>\n",
       "      <td>3</td>\n",
       "    </tr>\n",
       "    <tr>\n",
       "      <th>3</th>\n",
       "      <td>강촌 레일 파크</td>\n",
       "      <td>4</td>\n",
       "    </tr>\n",
       "    <tr>\n",
       "      <th>4</th>\n",
       "      <td>울산바위</td>\n",
       "      <td>5</td>\n",
       "    </tr>\n",
       "    <tr>\n",
       "      <th>5</th>\n",
       "      <td>뮤지엄 산</td>\n",
       "      <td>6</td>\n",
       "    </tr>\n",
       "    <tr>\n",
       "      <th>6</th>\n",
       "      <td>속초중앙시장</td>\n",
       "      <td>7</td>\n",
       "    </tr>\n",
       "    <tr>\n",
       "      <th>7</th>\n",
       "      <td>낙산사</td>\n",
       "      <td>8</td>\n",
       "    </tr>\n",
       "    <tr>\n",
       "      <th>8</th>\n",
       "      <td>경포해변</td>\n",
       "      <td>9</td>\n",
       "    </tr>\n",
       "    <tr>\n",
       "      <th>9</th>\n",
       "      <td>경포대</td>\n",
       "      <td>10</td>\n",
       "    </tr>\n",
       "    <tr>\n",
       "      <th>10</th>\n",
       "      <td>오대산 월정사</td>\n",
       "      <td>11</td>\n",
       "    </tr>\n",
       "    <tr>\n",
       "      <th>11</th>\n",
       "      <td>오죽헌</td>\n",
       "      <td>12</td>\n",
       "    </tr>\n",
       "    <tr>\n",
       "      <th>12</th>\n",
       "      <td>정동진</td>\n",
       "      <td>13</td>\n",
       "    </tr>\n",
       "    <tr>\n",
       "      <th>13</th>\n",
       "      <td>안목 해수욕장</td>\n",
       "      <td>14</td>\n",
       "    </tr>\n",
       "    <tr>\n",
       "      <th>14</th>\n",
       "      <td>권금성</td>\n",
       "      <td>15</td>\n",
       "    </tr>\n",
       "    <tr>\n",
       "      <th>15</th>\n",
       "      <td>비발디파크 오션월드</td>\n",
       "      <td>16</td>\n",
       "    </tr>\n",
       "    <tr>\n",
       "      <th>16</th>\n",
       "      <td>신흥사</td>\n",
       "      <td>17</td>\n",
       "    </tr>\n",
       "    <tr>\n",
       "      <th>17</th>\n",
       "      <td>알파카월드</td>\n",
       "      <td>18</td>\n",
       "    </tr>\n",
       "    <tr>\n",
       "      <th>18</th>\n",
       "      <td>하슬라 아트 월드</td>\n",
       "      <td>19</td>\n",
       "    </tr>\n",
       "    <tr>\n",
       "      <th>19</th>\n",
       "      <td>환선굴</td>\n",
       "      <td>20</td>\n",
       "    </tr>\n",
       "    <tr>\n",
       "      <th>20</th>\n",
       "      <td>강릉 선교장</td>\n",
       "      <td>21</td>\n",
       "    </tr>\n",
       "    <tr>\n",
       "      <th>21</th>\n",
       "      <td>속초 등대전망대</td>\n",
       "      <td>22</td>\n",
       "    </tr>\n",
       "    <tr>\n",
       "      <th>22</th>\n",
       "      <td>오대산 국립공원</td>\n",
       "      <td>23</td>\n",
       "    </tr>\n",
       "    <tr>\n",
       "      <th>23</th>\n",
       "      <td>제이드가든 수목원</td>\n",
       "      <td>24</td>\n",
       "    </tr>\n",
       "    <tr>\n",
       "      <th>24</th>\n",
       "      <td>추암해수욕장</td>\n",
       "      <td>25</td>\n",
       "    </tr>\n",
       "    <tr>\n",
       "      <th>25</th>\n",
       "      <td>정동심곡 바다부채길</td>\n",
       "      <td>26</td>\n",
       "    </tr>\n",
       "    <tr>\n",
       "      <th>26</th>\n",
       "      <td>촛대 바위</td>\n",
       "      <td>27</td>\n",
       "    </tr>\n",
       "    <tr>\n",
       "      <th>27</th>\n",
       "      <td>참소리축음기 에디슨과학박물관</td>\n",
       "      <td>28</td>\n",
       "    </tr>\n",
       "    <tr>\n",
       "      <th>28</th>\n",
       "      <td>하조대</td>\n",
       "      <td>29</td>\n",
       "    </tr>\n",
       "    <tr>\n",
       "      <th>29</th>\n",
       "      <td>대포항</td>\n",
       "      <td>30</td>\n",
       "    </tr>\n",
       "  </tbody>\n",
       "</table>\n",
       "</div>"
      ],
      "text/plain": [
       "                 장소  순위\n",
       "0               남이섬   1\n",
       "1          설악산 국립공원   2\n",
       "2          레고랜드 코리아   3\n",
       "3          강촌 레일 파크   4\n",
       "4              울산바위   5\n",
       "5             뮤지엄 산   6\n",
       "6            속초중앙시장   7\n",
       "7               낙산사   8\n",
       "8              경포해변   9\n",
       "9               경포대  10\n",
       "10          오대산 월정사  11\n",
       "11              오죽헌  12\n",
       "12              정동진  13\n",
       "13          안목 해수욕장  14\n",
       "14              권금성  15\n",
       "15       비발디파크 오션월드  16\n",
       "16              신흥사  17\n",
       "17            알파카월드  18\n",
       "18        하슬라 아트 월드  19\n",
       "19              환선굴  20\n",
       "20           강릉 선교장  21\n",
       "21         속초 등대전망대  22\n",
       "22         오대산 국립공원  23\n",
       "23        제이드가든 수목원  24\n",
       "24           추암해수욕장  25\n",
       "25       정동심곡 바다부채길  26\n",
       "26            촛대 바위  27\n",
       "27  참소리축음기 에디슨과학박물관  28\n",
       "28              하조대  29\n",
       "29              대포항  30"
      ]
     },
     "execution_count": 23,
     "metadata": {},
     "output_type": "execute_result"
    }
   ],
   "source": [
    "pd.DataFrame(text_dict.items(), columns=['장소', '순위'])"
   ]
  },
  {
   "cell_type": "code",
   "execution_count": null,
   "metadata": {},
   "outputs": [],
   "source": []
  }
 ],
 "metadata": {
  "kernelspec": {
   "display_name": "torch",
   "language": "python",
   "name": "python3"
  },
  "language_info": {
   "codemirror_mode": {
    "name": "ipython",
    "version": 3
   },
   "file_extension": ".py",
   "mimetype": "text/x-python",
   "name": "python",
   "nbconvert_exporter": "python",
   "pygments_lexer": "ipython3",
   "version": "3.10.0"
  }
 },
 "nbformat": 4,
 "nbformat_minor": 2
}
